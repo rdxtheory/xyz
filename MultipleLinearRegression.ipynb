{
 "cells": [
  {
   "cell_type": "markdown",
   "id": "6c6c8da8",
   "metadata": {},
   "source": [
    "**Multiple Linear Regression.** \n",
    "\n",
    "So, what is multiple linear regression? \n",
    "\n",
    "Multiple linear regression is used to estimate the relationship between two or more independent variables and one dependent variable. You can use multiple linear regression when you want to know:\n",
    "\n",
    "1. How strong the relationship is between two or more independent variables and one dependent variable (e.g. how rainfall, temperature, and amount of fertilizer added affect crop growth).\n",
    "2. The value of the dependent variable at a certain value of the independent variables (e.g. the expected yield of a crop at certain levels of rainfall, temperature, and fertilizer addition).\n",
    "\n",
    "**Example**: You are a public health researcher interested in social factors that influence heart disease. You survey 500 towns and gather data on the percentage of people in each town who smoke, the percentage of people in each town who bike to work, and the percentage of people in each town who have heart disease.\n",
    "Because you have two independent variables and one dependent variable, and all your variables are quantitative, you can use multiple linear regression to analyze the relationship between them.\n",
    "\n",
    "**Assumptions of multiple linear regression**\n",
    "\n",
    "**1.Homogeneity of variance (homoscedasticity)**: the size of the error in our prediction doesn’t change significantly across the values of the independent variable.\n",
    "\n",
    "**2.Independence of observations**: the observations in the dataset were collected using statistically valid methods, and there are no hidden relationships among variables.\n",
    "\n",
    "In multiple linear regression, it is possible that some of the independent variables are actually correlated with one another, so it is important to check these before developing the regression model. If two independent variables are too highly correlated (r2 > ~0.6), then only one of them should be used in the regression model.\n",
    "\n",
    "**3. Normality:** The data follows a normal distribution.\n",
    "\n",
    "**4.Linearity:** the line of best fit through the data points is a straight line, rather than a curve or some sort of grouping factor."
   ]
  },
  {
   "cell_type": "markdown",
   "id": "d7643bde",
   "metadata": {},
   "source": [
    "**Multiple linear regression formula**\n",
    "The formula for a multiple linear regression is\n",
    "\n",
    "\n",
    "Equation: Y = β0 + β1X1 + β2X2 + β3X3 + … + βnXn + e\n",
    "\n",
    "\n",
    "Y = Dependent variable / Target variable\n",
    "\n",
    "β0 = Intercept of the regression line\n",
    "\n",
    "β1, β2, β3, …. βn = Slope of the regression line which tells whether the line is increasing or decreasing\n",
    "\n",
    "X1, X2, X3, ….Xn = Independent variable / Predictor variable\n",
    "\n",
    "e = Error\n",
    "\n",
    "\n",
    "\n",
    "\n",
    "\n",
    "**To find the best-fit line for each independent variable, multiple linear regression calculates three things:**\n",
    "\n",
    "**1.Find The regression coefficients that lead to the smallest overall model error.**\n",
    "\n",
    "**2.The t-statistic of the overall model.**\n",
    "\n",
    "**3.Find The associated p-value (how likely it is that the t-statistic would have occurred by chance if the null hypothesis of no relationship between the independent and dependent variables was true).**\n",
    "\n",
    "**it then calculates the t-statistic and p-value for each regression coefficient in the model.**\n"
   ]
  },
  {
   "attachments": {
    "image.png": {
     "image/png": "[encoded data removed]"
    }
   },
   "cell_type": "markdown",
   "id": "a08ffa99",
   "metadata": {},
   "source": [
    "***T-statistic is the ratio of the departure of the estimated value of a parameter from its hypothesized value to its standard error.***\n",
    "\n",
    "The t-value measures the size of the difference relative to the variation in your sample data.\n",
    "\n",
    "T-statistic is used when the sample size is less than 30 units or the population standard deviation is unknown.\n",
    "\n",
    "Formula to calculate t-statistic.\n",
    "![image.png](attachment:image.png)\n",
    "\n",
    "where,\n",
    "\n",
    "X-bar is the sample mean.\n",
    "\n",
    "μ is the population mean.\n",
    "\n",
    "S is the sample standard deviation.\n",
    "\n",
    "n is the number of units in the sample."
   ]
  },
  {
   "cell_type": "markdown",
   "id": "6e6262f6",
   "metadata": {},
   "source": [
    "**P-value is the probability that a random chance generated the data or something else that is equal or greater(in some cases less than.)**\n",
    "\n",
    "P value can be calculated from the p-value table for each associated z/t-score\n"
   ]
  },
  {
   "cell_type": "markdown",
   "id": "7b627373",
   "metadata": {},
   "source": [
    "\n",
    "\n",
    "\n",
    "\n",
    "\n",
    "\n",
    "**Example**\n",
    "\n",
    "Every company uses multiple channels to market their product. \n",
    "Suppose a company has developed some product and needs to make a decision on which marketing channel to use for maximizing its ROI that it makes in marketing. It has used multiple channels to market its product in the past, whose data is available as a csv file.\n",
    "\n",
    "\n",
    "Predict the sales based on the money spent on TV, Radio, and Newspaper for marketing. In this case, there are three independent variables, i.e., money spent on TV, Radio, and Newspaper for marketing, and one dependent variable, i.e., sales, that is the value to be predicted.\n",
    "\n",
    "\n",
    "**Problem statement**: Build a Multiple Linear Regression Model to predict sales based on the money spent on TV, Radio, and Newspaper for advertising."
   ]
  },
  {
   "cell_type": "code",
   "execution_count": 1,
   "id": "577bb51b",
   "metadata": {},
   "outputs": [],
   "source": [
    "#Importing the libraries\n",
    "import pandas as pd\n",
    "import numpy as np\n",
    "import matplotlib.pyplot as plt\n",
    "import seaborn as sns"
   ]
  },
  {
   "cell_type": "markdown",
   "id": "e8163d0f",
   "metadata": {},
   "source": [
    "seaborn: Seaborn is a library used for making statistical graphics of the dataset. It provides a variety of visualization patterns. It uses fewer syntax and has easily interesting default themes. It is used to summarize data in visualizations and show the data’s distribution."
   ]
  },
  {
   "cell_type": "code",
   "execution_count": 2,
   "id": "674616f7",
   "metadata": {},
   "outputs": [],
   "source": [
    "#Reading the dataset\n",
    "dataset = pd.read_csv(r\"C:\\Users\\rishu\\Desktop\\data\\advertising.csv\")"
   ]
  },
  {
   "cell_type": "code",
   "execution_count": 3,
   "id": "d160c89f",
   "metadata": {},
   "outputs": [
    {
     "data": {
      "text/html": [
       "<div>\n",
       "<style scoped>\n",
       "    .dataframe tbody tr th:only-of-type {\n",
       "        vertical-align: middle;\n",
       "    }\n",
       "\n",
       "    .dataframe tbody tr th {\n",
       "        vertical-align: top;\n",
       "    }\n",
       "\n",
       "    .dataframe thead th {\n",
       "        text-align: right;\n",
       "    }\n",
       "</style>\n",
       "<table border=\"1\" class=\"dataframe\">\n",
       "  <thead>\n",
       "    <tr style=\"text-align: right;\">\n",
       "      <th></th>\n",
       "      <th>TV</th>\n",
       "      <th>Radio</th>\n",
       "      <th>Newspaper</th>\n",
       "      <th>Sales</th>\n",
       "    </tr>\n",
       "  </thead>\n",
       "  <tbody>\n",
       "    <tr>\n",
       "      <th>0</th>\n",
       "      <td>230.1</td>\n",
       "      <td>37.8</td>\n",
       "      <td>69.2</td>\n",
       "      <td>22.1</td>\n",
       "    </tr>\n",
       "    <tr>\n",
       "      <th>1</th>\n",
       "      <td>44.5</td>\n",
       "      <td>39.3</td>\n",
       "      <td>45.1</td>\n",
       "      <td>10.4</td>\n",
       "    </tr>\n",
       "    <tr>\n",
       "      <th>2</th>\n",
       "      <td>17.2</td>\n",
       "      <td>45.9</td>\n",
       "      <td>69.3</td>\n",
       "      <td>12.0</td>\n",
       "    </tr>\n",
       "    <tr>\n",
       "      <th>3</th>\n",
       "      <td>151.5</td>\n",
       "      <td>41.3</td>\n",
       "      <td>58.5</td>\n",
       "      <td>16.5</td>\n",
       "    </tr>\n",
       "    <tr>\n",
       "      <th>4</th>\n",
       "      <td>180.8</td>\n",
       "      <td>10.8</td>\n",
       "      <td>58.4</td>\n",
       "      <td>17.9</td>\n",
       "    </tr>\n",
       "  </tbody>\n",
       "</table>\n",
       "</div>"
      ],
      "text/plain": [
       "      TV  Radio  Newspaper  Sales\n",
       "0  230.1   37.8       69.2   22.1\n",
       "1   44.5   39.3       45.1   10.4\n",
       "2   17.2   45.9       69.3   12.0\n",
       "3  151.5   41.3       58.5   16.5\n",
       "4  180.8   10.8       58.4   17.9"
      ]
     },
     "execution_count": 3,
     "metadata": {},
     "output_type": "execute_result"
    }
   ],
   "source": [
    "dataset.head()"
   ]
  },
  {
   "cell_type": "markdown",
   "id": "1bfc2fec",
   "metadata": {},
   "source": [
    "**Data Pre-Processing**\n",
    "\n"
   ]
  },
  {
   "cell_type": "code",
   "execution_count": 4,
   "id": "edb4c675",
   "metadata": {},
   "outputs": [
    {
     "data": {
      "text/plain": [
       "(200, 4)"
      ]
     },
     "execution_count": 4,
     "metadata": {},
     "output_type": "execute_result"
    }
   ],
   "source": [
    "dataset.shape"
   ]
  },
  {
   "cell_type": "markdown",
   "id": "2cfd9f0f",
   "metadata": {},
   "source": [
    "**1. FInding the missing values**"
   ]
  },
  {
   "cell_type": "code",
   "execution_count": 5,
   "id": "ba88a33e",
   "metadata": {},
   "outputs": [
    {
     "data": {
      "text/plain": [
       "TV           0\n",
       "Radio        0\n",
       "Newspaper    0\n",
       "Sales        0\n",
       "dtype: int64"
      ]
     },
     "execution_count": 5,
     "metadata": {},
     "output_type": "execute_result"
    }
   ],
   "source": [
    "dataset.isna().sum()"
   ]
  },
  {
   "cell_type": "markdown",
   "id": "18b60e57",
   "metadata": {},
   "source": [
    "There are no missing values in the dataset"
   ]
  },
  {
   "cell_type": "markdown",
   "id": "5ddfcc68",
   "metadata": {},
   "source": [
    "**Check for Duplicate rows**"
   ]
  },
  {
   "cell_type": "code",
   "execution_count": 6,
   "id": "ae635ff5",
   "metadata": {},
   "outputs": [
    {
     "data": {
      "text/plain": [
       "False"
      ]
     },
     "execution_count": 6,
     "metadata": {},
     "output_type": "execute_result"
    }
   ],
   "source": [
    "dataset.duplicated().any()"
   ]
  },
  {
   "cell_type": "markdown",
   "id": "ac3787a3",
   "metadata": {},
   "source": [
    "**Conclusion:** There are no duplicate rows present in the dataset"
   ]
  },
  {
   "cell_type": "markdown",
   "id": "76ee2065",
   "metadata": {},
   "source": [
    "**3. Checking for outliers**"
   ]
  },
  {
   "cell_type": "code",
   "execution_count": 7,
   "id": "9275754e",
   "metadata": {},
   "outputs": [
    {
     "name": "stderr",
     "output_type": "stream",
     "text": [
      "C:\\Users\\rishu\\AppData\\Roaming\\Python\\Python39\\site-packages\\seaborn\\_decorators.py:36: FutureWarning: Pass the following variable as a keyword arg: x. From version 0.12, the only valid positional argument will be `data`, and passing other arguments without an explicit keyword will result in an error or misinterpretation.\n",
      "  warnings.warn(\n",
      "C:\\Users\\rishu\\AppData\\Roaming\\Python\\Python39\\site-packages\\seaborn\\_decorators.py:36: FutureWarning: Pass the following variable as a keyword arg: x. From version 0.12, the only valid positional argument will be `data`, and passing other arguments without an explicit keyword will result in an error or misinterpretation.\n",
      "  warnings.warn(\n",
      "C:\\Users\\rishu\\AppData\\Roaming\\Python\\Python39\\site-packages\\seaborn\\_decorators.py:36: FutureWarning: Pass the following variable as a keyword arg: x. From version 0.12, the only valid positional argument will be `data`, and passing other arguments without an explicit keyword will result in an error or misinterpretation.\n",
      "  warnings.warn(\n"
     ]
    },
    {
     "data": {
      "image/png": "[encoded data removed]",
      "text/plain": [
       "<Figure size 360x360 with 3 Axes>"
      ]
     },
     "metadata": {
      "needs_background": "light"
     },
     "output_type": "display_data"
    }
   ],
   "source": [
    "fig, axs = plt.subplots(3, figsize = (5,5))\n",
    "plt1 = sns.boxplot(dataset['TV'], ax = axs[0])\n",
    "plt2 = sns.boxplot(dataset['Newspaper'], ax = axs[1])\n",
    "plt3 = sns.boxplot(dataset['Radio'], ax = axs[2])\n",
    "plt.tight_layout()"
   ]
  },
  {
   "cell_type": "markdown",
   "id": "e999c6da",
   "metadata": {},
   "source": [
    "**Conclusion:** There are not that extreme values present in the dataset"
   ]
  },
  {
   "cell_type": "markdown",
   "id": "8c1f5c36",
   "metadata": {},
   "source": [
    "**Exploratory Data Analysis**\n",
    "\n",
    "1. 1. Distribution of the target variable"
   ]
  },
  {
   "cell_type": "code",
   "execution_count": 8,
   "id": "1e816b80",
   "metadata": {},
   "outputs": [
    {
     "name": "stderr",
     "output_type": "stream",
     "text": [
      "C:\\Users\\rishu\\AppData\\Roaming\\Python\\Python39\\site-packages\\seaborn\\distributions.py:2619: FutureWarning: `distplot` is a deprecated function and will be removed in a future version. Please adapt your code to use either `displot` (a figure-level function with similar flexibility) or `histplot` (an axes-level function for histograms).\n",
      "  warnings.warn(msg, FutureWarning)\n"
     ]
    },
    {
     "data": {
      "text/plain": [
       "<AxesSubplot:xlabel='Sales', ylabel='Density'>"
      ]
     },
     "execution_count": 8,
     "metadata": {},
     "output_type": "execute_result"
    },
    {
     "data": {
      "image/png": "[encoded data removed]",
      "text/plain": [
       "<Figure size 432x288 with 1 Axes>"
      ]
     },
     "metadata": {
      "needs_background": "light"
     },
     "output_type": "display_data"
    }
   ],
   "source": [
    "sns.distplot(dataset['Sales'])"
   ]
  },
  {
   "cell_type": "markdown",
   "id": "be5a4d03",
   "metadata": {},
   "source": [
    "**Conclusion: It is normally distributed**\n",
    "\n"
   ]
  },
  {
   "cell_type": "code",
   "execution_count": 9,
   "id": "3411c29f",
   "metadata": {},
   "outputs": [
    {
     "data": {
      "image/png": "[encoded data removed]",
      "text/plain": [
       "<Figure size 864x288 with 3 Axes>"
      ]
     },
     "metadata": {
      "needs_background": "light"
     },
     "output_type": "display_data"
    }
   ],
   "source": [
    "#2. How Sales are related with other variables\n",
    "\n",
    "sns.pairplot(dataset, x_vars=['TV', 'Radio', 'Newspaper'], y_vars='Sales', height=4, aspect=1, kind='scatter')\n",
    "plt.show()"
   ]
  },
  {
   "cell_type": "markdown",
   "id": "2a471f0e",
   "metadata": {},
   "source": [
    "Conclusion: TV is strongly, positively, linearly correlated with the target variable. Bu the Newspaper feature seems to be uncorrelated\n",
    "\n"
   ]
  },
  {
   "cell_type": "code",
   "execution_count": 10,
   "id": "b27c8d16",
   "metadata": {},
   "outputs": [
    {
     "data": {
      "image/png": "[encoded data removed]",
      "text/plain": [
       "<Figure size 432x288 with 2 Axes>"
      ]
     },
     "metadata": {
      "needs_background": "light"
     },
     "output_type": "display_data"
    }
   ],
   "source": [
    "# to better visualize it lets make a heatplot\n",
    "\n",
    "sns.heatmap(dataset.corr(), annot = True)\n",
    "plt.show()"
   ]
  },
  {
   "cell_type": "markdown",
   "id": "515657ee",
   "metadata": {},
   "source": [
    "Conclusion: TV seems to be most correlated with Sales as 0.9 is very close to 1"
   ]
  },
  {
   "cell_type": "markdown",
   "id": "6cf1fd31",
   "metadata": {},
   "source": [
    "**Model Building\n",
    "Linear Regression is a useful tool for predicting a quantitative response.**\n",
    "\n",
    "**Prediction using:**\n",
    "\n",
    "1. Simple Linear Regression\n",
    "2. Multiple Linear Regression"
   ]
  },
  {
   "cell_type": "markdown",
   "id": "986a270a",
   "metadata": {},
   "source": [
    "Simple linear regression has only one x and one y variable. It is an approach for predicting a quantitative response using a single feature.\n",
    "\n",
    "It establishes the relationship between two variables using a straight line. Linear regression attempts to draw a line that comes closest to the data by finding the slope and intercept that define the line and minimize regression errors.\n",
    "\n",
    "Formula: Y = β0 + β1X + e\n",
    "\n",
    "Y = Dependent variable / Target variable\n",
    "β0 = Intercept of the regression line \n",
    "β1 = Slope of the regression lime which tells whether the line is increasing or decreasing\n",
    "X = Independent variable / Predictor variable\n",
    "e = Error\n"
   ]
  },
  {
   "cell_type": "code",
   "execution_count": 11,
   "id": "8e3b8589",
   "metadata": {},
   "outputs": [],
   "source": [
    "# Simple Linear Model"
   ]
  },
  {
   "cell_type": "code",
   "execution_count": 12,
   "id": "65d53c31",
   "metadata": {},
   "outputs": [],
   "source": [
    "from sklearn.model_selection import train_test_split\n",
    "from sklearn.linear_model import LinearRegression\n",
    "from sklearn import metrics"
   ]
  },
  {
   "cell_type": "code",
   "execution_count": 13,
   "id": "ff6f035d",
   "metadata": {},
   "outputs": [],
   "source": [
    "#Setting the value for X and Y\n",
    "x = dataset[['TV']]\n",
    "y = dataset['Sales']"
   ]
  },
  {
   "cell_type": "code",
   "execution_count": 14,
   "id": "c0ed3b7b",
   "metadata": {},
   "outputs": [],
   "source": [
    "x_train, x_test, y_train, y_test = train_test_split(x, y, test_size = 0.3, random_state = 100)\n"
   ]
  },
  {
   "cell_type": "code",
   "execution_count": 15,
   "id": "21b5e57a",
   "metadata": {},
   "outputs": [
    {
     "data": {
      "text/plain": [
       "LinearRegression()"
      ]
     },
     "execution_count": 15,
     "metadata": {},
     "output_type": "execute_result"
    }
   ],
   "source": [
    "slr= LinearRegression()  #simple linear regression\n",
    "slr.fit(x_train, y_train)"
   ]
  },
  {
   "cell_type": "code",
   "execution_count": 16,
   "id": "351010b0",
   "metadata": {},
   "outputs": [
    {
     "name": "stdout",
     "output_type": "stream",
     "text": [
      "Intercept:  6.948683200001357\n",
      "Coefficient: [0.05454575]\n"
     ]
    }
   ],
   "source": [
    "#Printing the model coefficients\n",
    "print('Intercept: ', slr.intercept_)\n",
    "print('Coefficient:', slr.coef_)"
   ]
  },
  {
   "cell_type": "code",
   "execution_count": 17,
   "id": "31daacc4",
   "metadata": {},
   "outputs": [
    {
     "name": "stdout",
     "output_type": "stream",
     "text": [
      "Regression Equation: Sales = 6.948 + 0.054 * TV\n"
     ]
    }
   ],
   "source": [
    "print('Regression Equation: Sales = 6.948 + 0.054 * TV')\n"
   ]
  },
  {
   "cell_type": "code",
   "execution_count": 18,
   "id": "5fabf5ea",
   "metadata": {},
   "outputs": [],
   "source": [
    "y_train_predict = slr.predict(x_train)"
   ]
  },
  {
   "cell_type": "code",
   "execution_count": 19,
   "id": "0398085b",
   "metadata": {},
   "outputs": [
    {
     "data": {
      "image/png": "[encoded data removed]",
      "text/plain": [
       "<Figure size 432x288 with 1 Axes>"
      ]
     },
     "metadata": {
      "needs_background": "light"
     },
     "output_type": "display_data"
    }
   ],
   "source": [
    "#Line of best fit\n",
    "\n",
    "\n",
    "plt.scatter(x_train['TV'], y_train)\n",
    "plt.plot(x_train['TV'].to_list(), y_train_predict, 'r')\n",
    "plt.show()"
   ]
  },
  {
   "cell_type": "code",
   "execution_count": 25,
   "id": "c56d0fca",
   "metadata": {},
   "outputs": [],
   "source": [
    "#Prediction of Test and Training set result  \n",
    "y_pred_slr= slr.predict(x_test)  \n",
    "x_pred_slr= slr.predict(x_train) "
   ]
  },
  {
   "cell_type": "code",
   "execution_count": 21,
   "id": "755b44ae",
   "metadata": {},
   "outputs": [
    {
     "name": "stdout",
     "output_type": "stream",
     "text": [
      "[ 7.37414007 19.94148154 14.32326899 18.82329361 20.13239168 18.2287449\n",
      " 14.54145201 17.72692398 18.75238413 18.77420243 13.34144544 19.46693349\n",
      " 10.01415451 17.1923756  11.70507285 12.08689312 15.11418241 16.23237035\n",
      " 15.8669138  13.1068987  18.65965635 14.00690363 17.60692332 16.60328147\n",
      " 17.03419291 18.96511257 18.93783969 11.05597839 17.03419291 13.66326538\n",
      " 10.6796127  10.71234015 13.5487193  17.22510305  9.67597085 13.52144643\n",
      " 12.25053038 16.13418799 19.07965865 17.48692266 18.69783838 16.53237199\n",
      " 15.92145955 18.86693021 13.5050827  11.84143724  7.87050642 20.51966653\n",
      " 10.79961336  9.03233096 17.99419817 16.29237067 11.04506924 14.09963141\n",
      " 18.44147334  9.3759692   7.88687015  8.34505447 17.72692398 11.62325422]\n"
     ]
    }
   ],
   "source": [
    "print(y_pred_slr)"
   ]
  },
  {
   "cell_type": "code",
   "execution_count": 26,
   "id": "b58666c2",
   "metadata": {},
   "outputs": [
    {
     "data": {
      "text/plain": [
       "(60,)"
      ]
     },
     "execution_count": 26,
     "metadata": {},
     "output_type": "execute_result"
    }
   ],
   "source": [
    "y_pred_slr.shape\n"
   ]
  },
  {
   "cell_type": "code",
   "execution_count": null,
   "id": "413d9ad6",
   "metadata": {},
   "outputs": [],
   "source": [
    "#Actual value and the predicted value\n",
    "slr_diff = pd.DataFrame({'Actual value': y_test, 'Predicted value': y_pred_slr})\n",
    "slr_diff"
   ]
  },
  {
   "cell_type": "code",
   "execution_count": null,
   "id": "bfc656cc",
   "metadata": {},
   "outputs": [],
   "source": [
    "#Predict for any value\n",
    "slr.predict([[56]])"
   ]
  },
  {
   "cell_type": "markdown",
   "id": "7b6ce958",
   "metadata": {},
   "source": [
    "Conclusion: The model predicted the Sales of 10.003 in that market"
   ]
  },
  {
   "cell_type": "code",
   "execution_count": null,
   "id": "002938c4",
   "metadata": {},
   "outputs": [],
   "source": [
    "# print the R-squared value for the model\n",
    "from sklearn.metrics import accuracy_score\n",
    "print('R squared value of the model: {:.2f}'.format(slr.score(x,y)*100))"
   ]
  },
  {
   "cell_type": "code",
   "execution_count": null,
   "id": "aa75cb36",
   "metadata": {},
   "outputs": [],
   "source": [
    "# 0 means the model is perfect. Therefore the value should be as close to 0 as possible\n",
    "meanAbErr = metrics.mean_absolute_error(y_test, y_pred_slr)\n",
    "meanSqErr = metrics.mean_squared_error(y_test, y_pred_slr)\n",
    "rootMeanSqErr = np.sqrt(metrics.mean_squared_error(y_test, y_pred_slr))\n",
    "\n",
    "print('Mean Absolute Error:', meanAbErr)\n",
    "print('Mean Square Error:', meanSqErr)\n",
    "print('Root Mean Square Error:', rootMeanSqErr)"
   ]
  },
  {
   "cell_type": "code",
   "execution_count": null,
   "id": "a9fcdd6c",
   "metadata": {},
   "outputs": [],
   "source": [
    "# multiple linear regression\n",
    "\n",
    "#Setting the parameters\n",
    "\n",
    "#Setting the value for X and Y\n",
    "x = dataset[['TV', 'Radio', 'Newspaper']]\n",
    "y = dataset['Sales']"
   ]
  },
  {
   "cell_type": "code",
   "execution_count": null,
   "id": "50cad0ec",
   "metadata": {},
   "outputs": [],
   "source": [
    "x_train, x_test, y_train, y_test= train_test_split(x, y, test_size= 0.3, random_state=100)  "
   ]
  },
  {
   "cell_type": "code",
   "execution_count": null,
   "id": "ef993c20",
   "metadata": {},
   "outputs": [],
   "source": [
    "mlr= LinearRegression()  \n",
    "mlr.fit(x_train, y_train) "
   ]
  },
  {
   "cell_type": "code",
   "execution_count": null,
   "id": "10aa5d2a",
   "metadata": {},
   "outputs": [],
   "source": [
    "#Printing the model coefficients\n",
    "print(mlr.intercept_)\n",
    "# pair the feature names with the coefficients\n",
    "list(zip(x, mlr.coef_))"
   ]
  },
  {
   "cell_type": "code",
   "execution_count": null,
   "id": "bf89f5b0",
   "metadata": {},
   "outputs": [],
   "source": [
    "#Predicting the Test and Train set result \n",
    "y_pred_mlr= mlr.predict(x_test)  \n",
    "x_pred_mlr= mlr.predict(x_train)  "
   ]
  },
  {
   "cell_type": "code",
   "execution_count": null,
   "id": "943ad939",
   "metadata": {},
   "outputs": [],
   "source": [
    "print(\"Prediction for test set: \",y_pred_mlr)"
   ]
  },
  {
   "cell_type": "code",
   "execution_count": null,
   "id": "f95d8471",
   "metadata": {},
   "outputs": [],
   "source": [
    "#Actual value and the predicted value\n",
    "mlr_diff = pd.DataFrame({'Actual value': y_test, 'Predicted value': y_pred_mlr})\n",
    "mlr_diff"
   ]
  },
  {
   "cell_type": "code",
   "execution_count": null,
   "id": "e661d969",
   "metadata": {},
   "outputs": [],
   "source": [
    "#Predict for any value\n",
    "mlr.predict([[56, 55, 67]])"
   ]
  },
  {
   "cell_type": "markdown",
   "id": "39e8201a",
   "metadata": {},
   "source": [
    "Conclusion: The model predicted the Sales of 13.82 in that market"
   ]
  },
  {
   "cell_type": "code",
   "execution_count": null,
   "id": "ee991c13",
   "metadata": {},
   "outputs": [],
   "source": [
    "# print the R-squared value for the model\n",
    "print('R squared value of the model: {:.2f}'.format(mlr.score(x,y)*100))"
   ]
  },
  {
   "cell_type": "markdown",
   "id": "7b2172b4",
   "metadata": {},
   "source": [
    "Conclusion: 90.21% of the data fit the multiple regression model"
   ]
  },
  {
   "cell_type": "code",
   "execution_count": null,
   "id": "cec2382e",
   "metadata": {},
   "outputs": [],
   "source": [
    "# 0 means the model is perfect. Therefore the value should be as close to 0 as possible\n",
    "meanAbErr = metrics.mean_absolute_error(y_test, y_pred_mlr)\n",
    "meanSqErr = metrics.mean_squared_error(y_test, y_pred_mlr)\n",
    "rootMeanSqErr = np.sqrt(metrics.mean_squared_error(y_test, y_pred_mlr))\n",
    "\n",
    "print('Mean Absolute Error:', meanAbErr)\n",
    "print('Mean Square Error:', meanSqErr)\n",
    "print('Root Mean Square Error:', rootMeanSqErr)"
   ]
  }
 ],
 "metadata": {
  "kernelspec": {
   "display_name": "Python 3 (ipykernel)",
   "language": "python",
   "name": "python3"
  },
  "language_info": {
   "codemirror_mode": {
    "name": "ipython",
    "version": 3
   },
   "file_extension": ".py",
   "mimetype": "text/x-python",
   "name": "python",
   "nbconvert_exporter": "python",
   "pygments_lexer": "ipython3",
   "version": "3.9.12"
  }
 },
 "nbformat": 4,
 "nbformat_minor": 5
}
